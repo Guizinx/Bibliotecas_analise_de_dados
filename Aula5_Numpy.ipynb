{
  "nbformat": 4,
  "nbformat_minor": 0,
  "metadata": {
    "colab": {
      "provenance": []
    },
    "kernelspec": {
      "name": "python3",
      "display_name": "Python 3"
    },
    "language_info": {
      "name": "python"
    }
  },
  "cells": [
    {
      "cell_type": "markdown",
      "source": [
        "## **AULA 5 - Extração de estatísticas descritivas de uma *array* Numpy**\n",
        "\n",
        "---\n",
        "\n",
        "\n",
        "\n",
        "```\n",
        "mean\n",
        "\n",
        "std\n",
        "\n",
        "min\n",
        "\n",
        "max\n",
        "\n",
        "sum\n",
        "\n",
        "np.unique()\n",
        "\n",
        "```\n",
        "\n"
      ],
      "metadata": {
        "id": "9dy2Qd6C5FXA"
      }
    },
    {
      "cell_type": "markdown",
      "source": [
        "> **RELEMBRANDO A SITUAÇÃO PROBLEMA**\n",
        "\n",
        "**Bancos e a Era Digital**\n",
        "\n",
        "Os bancos privados brasileiros correm para adequar suas redes físicas à nova realidade do mercado, que exige um maior investimento nos canais digitais. Neste sentido, é visível o potencial dos satélites para acelerar diferentes negócios. Os satélites viabilizam as telecomunicações em todo o território nacional. Veja o relato de Guilherme Saraiva, diretor executivo da Embratel:\n",
        "\n",
        "*“Os satélites podem ser usados em comunicações com plataformas de petróleo e embarcações marítimas, comunicações com lugares isolados ou com baixa qualidade de conexão terrestre, internet rural, mineração, agronegócio e monitoramento de infraestrutura”.*\n",
        "\n",
        "*“As redes via satélite também têm sido usadas na interiorização do serviço móvel pessoal de telefonia e banda larga móvel celular, principalmente em comunidades mais afastadas”.*\n",
        "\n",
        "Fonte: https://valor.globo.com/patrocinado/embratel/juntos-no-proximo-nivel/noticia/2021/11/12/conheca-o-potencial-dos-satelites-para-acelerar-diferentes-negocios.ghtml"
      ],
      "metadata": {
        "id": "VcHgwI7T5NMX"
      }
    },
    {
      "cell_type": "code",
      "execution_count": null,
      "metadata": {
        "id": "cKkDeEt64_mz",
        "outputId": "8291eed0-3b3e-4268-9c9d-a36f6d6b5ffd",
        "colab": {
          "base_uri": "https://localhost:8080/"
        }
      },
      "outputs": [
        {
          "output_type": "stream",
          "name": "stdout",
          "text": [
            "Looking in indexes: https://pypi.org/simple, https://us-python.pkg.dev/colab-wheels/public/simple/\n",
            "Collecting rasterio\n",
            "  Downloading rasterio-1.2.10-cp37-cp37m-manylinux1_x86_64.whl (19.3 MB)\n",
            "\u001b[K     |████████████████████████████████| 19.3 MB 626 kB/s \n",
            "\u001b[?25hCollecting affine\n",
            "  Downloading affine-2.3.1-py2.py3-none-any.whl (16 kB)\n",
            "Requirement already satisfied: certifi in /usr/local/lib/python3.7/dist-packages (from rasterio) (2022.6.15)\n",
            "Requirement already satisfied: attrs in /usr/local/lib/python3.7/dist-packages (from rasterio) (22.1.0)\n",
            "Collecting snuggs>=1.4.1\n",
            "  Downloading snuggs-1.4.7-py3-none-any.whl (5.4 kB)\n",
            "Collecting cligj>=0.5\n",
            "  Downloading cligj-0.7.2-py3-none-any.whl (7.1 kB)\n",
            "Requirement already satisfied: setuptools in /usr/local/lib/python3.7/dist-packages (from rasterio) (57.4.0)\n",
            "Collecting click-plugins\n",
            "  Downloading click_plugins-1.1.1-py2.py3-none-any.whl (7.5 kB)\n",
            "Requirement already satisfied: numpy in /usr/local/lib/python3.7/dist-packages (from rasterio) (1.21.6)\n",
            "Requirement already satisfied: click>=4.0 in /usr/local/lib/python3.7/dist-packages (from rasterio) (7.1.2)\n",
            "Requirement already satisfied: pyparsing>=2.1.6 in /usr/local/lib/python3.7/dist-packages (from snuggs>=1.4.1->rasterio) (3.0.9)\n",
            "Installing collected packages: snuggs, cligj, click-plugins, affine, rasterio\n",
            "Successfully installed affine-2.3.1 click-plugins-1.1.1 cligj-0.7.2 rasterio-1.2.10 snuggs-1.4.7\n"
          ]
        }
      ],
      "source": [
        "# Importando as bibliotecas\n",
        "\n",
        "!pip install rasterio\n",
        "\n",
        "import numpy as np\n",
        "import rasterio\n",
        "from rasterio.plot import show"
      ]
    },
    {
      "cell_type": "code",
      "source": [
        "dataset = rasterio.open('crop_rapideye.tif') # Lendo a imagem"
      ],
      "metadata": {
        "id": "GQmeaz_u5R6m"
      },
      "execution_count": null,
      "outputs": []
    },
    {
      "cell_type": "code",
      "source": [
        "# Convertendo o dataset em um objeto do tipo ndarray\n",
        "\n",
        "dataset_array = dataset.read(1)"
      ],
      "metadata": {
        "id": "hCMpOd1B7X00"
      },
      "execution_count": null,
      "outputs": []
    },
    {
      "cell_type": "code",
      "source": [
        "dataset_array"
      ],
      "metadata": {
        "colab": {
          "base_uri": "https://localhost:8080/"
        },
        "id": "B3qrJo7E7boe",
        "outputId": "d65032c6-655f-4277-e4e7-4c01017f8039"
      },
      "execution_count": null,
      "outputs": [
        {
          "output_type": "execute_result",
          "data": {
            "text/plain": [
              "array([[   0, 6068, 6105, ..., 7005, 7085,    0],\n",
              "       [   0, 6198, 6273, ..., 6958, 7035,    0],\n",
              "       [   0, 6309, 6169, ..., 7154, 7162,    0],\n",
              "       ...,\n",
              "       [   0, 5908, 5900, ..., 7113, 7203,    0],\n",
              "       [   0, 5910, 5953, ..., 7101, 7142,    0],\n",
              "       [   0, 5880, 5992, ..., 7227, 7309,    0]], dtype=uint16)"
            ]
          },
          "metadata": {},
          "execution_count": 6
        }
      ]
    },
    {
      "cell_type": "code",
      "source": [
        "# Calculando a média\n",
        "\n",
        "dataset_array.mean()"
      ],
      "metadata": {
        "colab": {
          "base_uri": "https://localhost:8080/"
        },
        "id": "wGksYO0o7dRV",
        "outputId": "b3691676-0677-4a5d-a37d-31fde72ea7d9"
      },
      "execution_count": null,
      "outputs": [
        {
          "output_type": "execute_result",
          "data": {
            "text/plain": [
              "7107.597241315036"
            ]
          },
          "metadata": {},
          "execution_count": 7
        }
      ]
    },
    {
      "cell_type": "code",
      "source": [
        "# Calculando o desvio padrão\n",
        "\n",
        "dataset_array.std()"
      ],
      "metadata": {
        "colab": {
          "base_uri": "https://localhost:8080/"
        },
        "id": "FiKjs3BS9P9O",
        "outputId": "ced3ff60-ee93-4542-a697-c53f99a22887"
      },
      "execution_count": null,
      "outputs": [
        {
          "output_type": "execute_result",
          "data": {
            "text/plain": [
              "883.0605295194446"
            ]
          },
          "metadata": {},
          "execution_count": 12
        }
      ]
    },
    {
      "cell_type": "code",
      "source": [
        "# Identificando o valor mínimo\n",
        "\n",
        "dataset_array.min()"
      ],
      "metadata": {
        "colab": {
          "base_uri": "https://localhost:8080/"
        },
        "id": "hZRKm03L9Jj6",
        "outputId": "4195df07-2138-47d7-f7af-4d2262e2ed19"
      },
      "execution_count": null,
      "outputs": [
        {
          "output_type": "execute_result",
          "data": {
            "text/plain": [
              "0"
            ]
          },
          "metadata": {},
          "execution_count": 8
        }
      ]
    },
    {
      "cell_type": "code",
      "source": [
        "# Identificando o valor máximo\n",
        "\n",
        "dataset_array.max()"
      ],
      "metadata": {
        "colab": {
          "base_uri": "https://localhost:8080/"
        },
        "id": "pqorD-j79LqE",
        "outputId": "7a723415-071b-47f3-8934-b8c07b7b5417"
      },
      "execution_count": null,
      "outputs": [
        {
          "output_type": "execute_result",
          "data": {
            "text/plain": [
              "18381"
            ]
          },
          "metadata": {},
          "execution_count": 10
        }
      ]
    },
    {
      "cell_type": "code",
      "source": [
        "# Somando todos os valores da array numpy\n",
        "\n",
        "dataset_array.sum()"
      ],
      "metadata": {
        "colab": {
          "base_uri": "https://localhost:8080/"
        },
        "id": "C-xmd8M59OMn",
        "outputId": "a046c1e6-ce5b-4535-9ca1-651ea8281900"
      },
      "execution_count": null,
      "outputs": [
        {
          "output_type": "execute_result",
          "data": {
            "text/plain": [
              "6406070286"
            ]
          },
          "metadata": {},
          "execution_count": 11
        }
      ]
    },
    {
      "cell_type": "code",
      "source": [
        "# Identificando os valores únicos\n",
        "\n",
        "unique_values = np.unique(dataset_array)\n",
        "print(unique_values)"
      ],
      "metadata": {
        "colab": {
          "base_uri": "https://localhost:8080/"
        },
        "id": "ViMCkIyU9tq3",
        "outputId": "3d753851-3fd2-4fe9-f7c9-71c4cba8bd3a"
      },
      "execution_count": null,
      "outputs": [
        {
          "output_type": "stream",
          "name": "stdout",
          "text": [
            "[    0  5314  5393 ... 18129 18312 18381]\n"
          ]
        }
      ]
    }
  ]
}